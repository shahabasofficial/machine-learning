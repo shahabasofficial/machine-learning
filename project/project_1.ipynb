{
 "cells": [
  {
   "cell_type": "markdown",
   "id": "d833b2d8",
   "metadata": {},
   "source": [
    "___ Creating a Students Score Bar Chart And Total etc.. ___"
   ]
  },
  {
   "cell_type": "markdown",
   "id": "34697226",
   "metadata": {},
   "source": [
    "      \n",
    "      \n",
    "      Importing Dependensis  \n",
    "\n"
   ]
  },
  {
   "cell_type": "code",
   "execution_count": 38,
   "id": "1d160e08",
   "metadata": {},
   "outputs": [],
   "source": [
    "import pandas as pd\n",
    "import matplotlib.pyplot as plt"
   ]
  },
  {
   "cell_type": "markdown",
   "id": "ec42cacb",
   "metadata": {},
   "source": [
    "      Read the dataset using pandas.  "
   ]
  },
  {
   "cell_type": "code",
   "execution_count": 39,
   "id": "7e4cb91f",
   "metadata": {},
   "outputs": [],
   "source": [
    "dataset = pd.read_csv('../datasets/student_scores.csv')"
   ]
  },
  {
   "cell_type": "code",
   "execution_count": 40,
   "id": "6cf58107",
   "metadata": {},
   "outputs": [
    {
     "data": {
      "text/html": [
       "<div>\n",
       "<style scoped>\n",
       "    .dataframe tbody tr th:only-of-type {\n",
       "        vertical-align: middle;\n",
       "    }\n",
       "\n",
       "    .dataframe tbody tr th {\n",
       "        vertical-align: top;\n",
       "    }\n",
       "\n",
       "    .dataframe thead th {\n",
       "        text-align: right;\n",
       "    }\n",
       "</style>\n",
       "<table border=\"1\" class=\"dataframe\">\n",
       "  <thead>\n",
       "    <tr style=\"text-align: right;\">\n",
       "      <th></th>\n",
       "      <th>Name</th>\n",
       "      <th>English</th>\n",
       "      <th>Maths</th>\n",
       "      <th>Science</th>\n",
       "      <th>Social</th>\n",
       "      <th>Hindi</th>\n",
       "    </tr>\n",
       "  </thead>\n",
       "  <tbody>\n",
       "    <tr>\n",
       "      <th>0</th>\n",
       "      <td>Amal</td>\n",
       "      <td>90</td>\n",
       "      <td>95</td>\n",
       "      <td>94</td>\n",
       "      <td>98</td>\n",
       "      <td>89</td>\n",
       "    </tr>\n",
       "    <tr>\n",
       "      <th>1</th>\n",
       "      <td>Neha</td>\n",
       "      <td>91</td>\n",
       "      <td>73</td>\n",
       "      <td>83</td>\n",
       "      <td>80</td>\n",
       "      <td>88</td>\n",
       "    </tr>\n",
       "    <tr>\n",
       "      <th>2</th>\n",
       "      <td>Rahim</td>\n",
       "      <td>66</td>\n",
       "      <td>59</td>\n",
       "      <td>72</td>\n",
       "      <td>68</td>\n",
       "      <td>61</td>\n",
       "    </tr>\n",
       "    <tr>\n",
       "      <th>3</th>\n",
       "      <td>Shamil</td>\n",
       "      <td>93</td>\n",
       "      <td>76</td>\n",
       "      <td>87</td>\n",
       "      <td>91</td>\n",
       "      <td>78</td>\n",
       "    </tr>\n",
       "    <tr>\n",
       "      <th>4</th>\n",
       "      <td>Rahul</td>\n",
       "      <td>76</td>\n",
       "      <td>87</td>\n",
       "      <td>75</td>\n",
       "      <td>94</td>\n",
       "      <td>89</td>\n",
       "    </tr>\n",
       "  </tbody>\n",
       "</table>\n",
       "</div>"
      ],
      "text/plain": [
       "     Name  English  Maths  Science  Social  Hindi\n",
       "0    Amal       90     95       94      98     89\n",
       "1    Neha       91     73       83      80     88\n",
       "2   Rahim       66     59       72      68     61\n",
       "3  Shamil       93     76       87      91     78\n",
       "4   Rahul       76     87       75      94     89"
      ]
     },
     "execution_count": 40,
     "metadata": {},
     "output_type": "execute_result"
    }
   ],
   "source": [
    "dataset.head()"
   ]
  },
  {
   "cell_type": "code",
   "execution_count": 41,
   "id": "29cd8e5c",
   "metadata": {},
   "outputs": [
    {
     "name": "stdout",
     "output_type": "stream",
     "text": [
      "     Name  English  Maths  Science  Social  Hindi\n",
      "0    Amal       90     95       94      98     89\n",
      "1    Neha       91     73       83      80     88\n",
      "2   Rahim       66     59       72      68     61\n",
      "3  Shamil       93     76       87      91     78\n",
      "4   Rahul       76     87       75      94     89\n"
     ]
    }
   ],
   "source": [
    "print(dataset)"
   ]
  },
  {
   "cell_type": "markdown",
   "id": "89275727",
   "metadata": {},
   "source": [
    "      Calculate total marks and add as a new column.  "
   ]
  },
  {
   "cell_type": "code",
   "execution_count": 42,
   "id": "ebf03792",
   "metadata": {},
   "outputs": [],
   "source": [
    "dataset['Total'] = dataset[['English', 'Maths', 'Science', 'Social', 'Hindi']].sum(axis=1)"
   ]
  },
  {
   "cell_type": "code",
   "execution_count": 43,
   "id": "67ed4ddc",
   "metadata": {},
   "outputs": [
    {
     "data": {
      "text/html": [
       "<div>\n",
       "<style scoped>\n",
       "    .dataframe tbody tr th:only-of-type {\n",
       "        vertical-align: middle;\n",
       "    }\n",
       "\n",
       "    .dataframe tbody tr th {\n",
       "        vertical-align: top;\n",
       "    }\n",
       "\n",
       "    .dataframe thead th {\n",
       "        text-align: right;\n",
       "    }\n",
       "</style>\n",
       "<table border=\"1\" class=\"dataframe\">\n",
       "  <thead>\n",
       "    <tr style=\"text-align: right;\">\n",
       "      <th></th>\n",
       "      <th>Name</th>\n",
       "      <th>English</th>\n",
       "      <th>Maths</th>\n",
       "      <th>Science</th>\n",
       "      <th>Social</th>\n",
       "      <th>Hindi</th>\n",
       "      <th>Total</th>\n",
       "    </tr>\n",
       "  </thead>\n",
       "  <tbody>\n",
       "    <tr>\n",
       "      <th>0</th>\n",
       "      <td>Amal</td>\n",
       "      <td>90</td>\n",
       "      <td>95</td>\n",
       "      <td>94</td>\n",
       "      <td>98</td>\n",
       "      <td>89</td>\n",
       "      <td>466</td>\n",
       "    </tr>\n",
       "    <tr>\n",
       "      <th>1</th>\n",
       "      <td>Neha</td>\n",
       "      <td>91</td>\n",
       "      <td>73</td>\n",
       "      <td>83</td>\n",
       "      <td>80</td>\n",
       "      <td>88</td>\n",
       "      <td>415</td>\n",
       "    </tr>\n",
       "    <tr>\n",
       "      <th>2</th>\n",
       "      <td>Rahim</td>\n",
       "      <td>66</td>\n",
       "      <td>59</td>\n",
       "      <td>72</td>\n",
       "      <td>68</td>\n",
       "      <td>61</td>\n",
       "      <td>326</td>\n",
       "    </tr>\n",
       "    <tr>\n",
       "      <th>3</th>\n",
       "      <td>Shamil</td>\n",
       "      <td>93</td>\n",
       "      <td>76</td>\n",
       "      <td>87</td>\n",
       "      <td>91</td>\n",
       "      <td>78</td>\n",
       "      <td>425</td>\n",
       "    </tr>\n",
       "    <tr>\n",
       "      <th>4</th>\n",
       "      <td>Rahul</td>\n",
       "      <td>76</td>\n",
       "      <td>87</td>\n",
       "      <td>75</td>\n",
       "      <td>94</td>\n",
       "      <td>89</td>\n",
       "      <td>421</td>\n",
       "    </tr>\n",
       "  </tbody>\n",
       "</table>\n",
       "</div>"
      ],
      "text/plain": [
       "     Name  English  Maths  Science  Social  Hindi  Total\n",
       "0    Amal       90     95       94      98     89    466\n",
       "1    Neha       91     73       83      80     88    415\n",
       "2   Rahim       66     59       72      68     61    326\n",
       "3  Shamil       93     76       87      91     78    425\n",
       "4   Rahul       76     87       75      94     89    421"
      ]
     },
     "execution_count": 43,
     "metadata": {},
     "output_type": "execute_result"
    }
   ],
   "source": [
    "dataset.head()"
   ]
  },
  {
   "cell_type": "markdown",
   "id": "e84647f3",
   "metadata": {},
   "source": [
    "      Calculate average score for each student.  "
   ]
  },
  {
   "cell_type": "code",
   "execution_count": 44,
   "id": "c2615e10",
   "metadata": {},
   "outputs": [],
   "source": [
    "dataset['Average'] = dataset['Total'] / 5"
   ]
  },
  {
   "cell_type": "code",
   "execution_count": 45,
   "id": "b473d01c",
   "metadata": {},
   "outputs": [
    {
     "data": {
      "text/html": [
       "<div>\n",
       "<style scoped>\n",
       "    .dataframe tbody tr th:only-of-type {\n",
       "        vertical-align: middle;\n",
       "    }\n",
       "\n",
       "    .dataframe tbody tr th {\n",
       "        vertical-align: top;\n",
       "    }\n",
       "\n",
       "    .dataframe thead th {\n",
       "        text-align: right;\n",
       "    }\n",
       "</style>\n",
       "<table border=\"1\" class=\"dataframe\">\n",
       "  <thead>\n",
       "    <tr style=\"text-align: right;\">\n",
       "      <th></th>\n",
       "      <th>Name</th>\n",
       "      <th>English</th>\n",
       "      <th>Maths</th>\n",
       "      <th>Science</th>\n",
       "      <th>Social</th>\n",
       "      <th>Hindi</th>\n",
       "      <th>Total</th>\n",
       "      <th>Average</th>\n",
       "    </tr>\n",
       "  </thead>\n",
       "  <tbody>\n",
       "    <tr>\n",
       "      <th>0</th>\n",
       "      <td>Amal</td>\n",
       "      <td>90</td>\n",
       "      <td>95</td>\n",
       "      <td>94</td>\n",
       "      <td>98</td>\n",
       "      <td>89</td>\n",
       "      <td>466</td>\n",
       "      <td>93.2</td>\n",
       "    </tr>\n",
       "    <tr>\n",
       "      <th>1</th>\n",
       "      <td>Neha</td>\n",
       "      <td>91</td>\n",
       "      <td>73</td>\n",
       "      <td>83</td>\n",
       "      <td>80</td>\n",
       "      <td>88</td>\n",
       "      <td>415</td>\n",
       "      <td>83.0</td>\n",
       "    </tr>\n",
       "    <tr>\n",
       "      <th>2</th>\n",
       "      <td>Rahim</td>\n",
       "      <td>66</td>\n",
       "      <td>59</td>\n",
       "      <td>72</td>\n",
       "      <td>68</td>\n",
       "      <td>61</td>\n",
       "      <td>326</td>\n",
       "      <td>65.2</td>\n",
       "    </tr>\n",
       "    <tr>\n",
       "      <th>3</th>\n",
       "      <td>Shamil</td>\n",
       "      <td>93</td>\n",
       "      <td>76</td>\n",
       "      <td>87</td>\n",
       "      <td>91</td>\n",
       "      <td>78</td>\n",
       "      <td>425</td>\n",
       "      <td>85.0</td>\n",
       "    </tr>\n",
       "    <tr>\n",
       "      <th>4</th>\n",
       "      <td>Rahul</td>\n",
       "      <td>76</td>\n",
       "      <td>87</td>\n",
       "      <td>75</td>\n",
       "      <td>94</td>\n",
       "      <td>89</td>\n",
       "      <td>421</td>\n",
       "      <td>84.2</td>\n",
       "    </tr>\n",
       "  </tbody>\n",
       "</table>\n",
       "</div>"
      ],
      "text/plain": [
       "     Name  English  Maths  Science  Social  Hindi  Total  Average\n",
       "0    Amal       90     95       94      98     89    466     93.2\n",
       "1    Neha       91     73       83      80     88    415     83.0\n",
       "2   Rahim       66     59       72      68     61    326     65.2\n",
       "3  Shamil       93     76       87      91     78    425     85.0\n",
       "4   Rahul       76     87       75      94     89    421     84.2"
      ]
     },
     "execution_count": 45,
     "metadata": {},
     "output_type": "execute_result"
    }
   ],
   "source": [
    "dataset.head()"
   ]
  },
  {
   "cell_type": "markdown",
   "id": "0dfc342b",
   "metadata": {},
   "source": [
    "      Assign grade based on Averages:  \n",
    "\n",
    "      A+ → >90  \n",
    "\n",
    "      A → 80-90  \n",
    "\n",
    "      B → 70-79  \n",
    "\n",
    "      C → 60-69  \n",
    "\n",
    "      D → <60  "
   ]
  },
  {
   "cell_type": "code",
   "execution_count": 46,
   "id": "781d35d4",
   "metadata": {},
   "outputs": [],
   "source": [
    "def assign_grade(avg):\n",
    "    if avg >= 90:\n",
    "        return 'A+'\n",
    "    \n",
    "    elif avg >= 80:\n",
    "        return 'A'\n",
    "    \n",
    "    elif avg >= 70:\n",
    "        return 'B'\n",
    "    \n",
    "    elif avg >= 60:\n",
    "        return 'C'\n",
    "    \n",
    "    elif avg >= 50:\n",
    "        return 'D'\n",
    "    \n",
    "    else: \n",
    "        return 'F'\n",
    "    \n",
    "dataset['Grade'] = dataset.apply(lambda row: assign_grade(row['Average']), axis=1)\n"
   ]
  },
  {
   "cell_type": "code",
   "execution_count": 47,
   "id": "6482b1f6",
   "metadata": {},
   "outputs": [
    {
     "data": {
      "text/html": [
       "<div>\n",
       "<style scoped>\n",
       "    .dataframe tbody tr th:only-of-type {\n",
       "        vertical-align: middle;\n",
       "    }\n",
       "\n",
       "    .dataframe tbody tr th {\n",
       "        vertical-align: top;\n",
       "    }\n",
       "\n",
       "    .dataframe thead th {\n",
       "        text-align: right;\n",
       "    }\n",
       "</style>\n",
       "<table border=\"1\" class=\"dataframe\">\n",
       "  <thead>\n",
       "    <tr style=\"text-align: right;\">\n",
       "      <th></th>\n",
       "      <th>Name</th>\n",
       "      <th>English</th>\n",
       "      <th>Maths</th>\n",
       "      <th>Science</th>\n",
       "      <th>Social</th>\n",
       "      <th>Hindi</th>\n",
       "      <th>Total</th>\n",
       "      <th>Average</th>\n",
       "      <th>Grade</th>\n",
       "    </tr>\n",
       "  </thead>\n",
       "  <tbody>\n",
       "    <tr>\n",
       "      <th>0</th>\n",
       "      <td>Amal</td>\n",
       "      <td>90</td>\n",
       "      <td>95</td>\n",
       "      <td>94</td>\n",
       "      <td>98</td>\n",
       "      <td>89</td>\n",
       "      <td>466</td>\n",
       "      <td>93.2</td>\n",
       "      <td>A+</td>\n",
       "    </tr>\n",
       "    <tr>\n",
       "      <th>1</th>\n",
       "      <td>Neha</td>\n",
       "      <td>91</td>\n",
       "      <td>73</td>\n",
       "      <td>83</td>\n",
       "      <td>80</td>\n",
       "      <td>88</td>\n",
       "      <td>415</td>\n",
       "      <td>83.0</td>\n",
       "      <td>A</td>\n",
       "    </tr>\n",
       "    <tr>\n",
       "      <th>2</th>\n",
       "      <td>Rahim</td>\n",
       "      <td>66</td>\n",
       "      <td>59</td>\n",
       "      <td>72</td>\n",
       "      <td>68</td>\n",
       "      <td>61</td>\n",
       "      <td>326</td>\n",
       "      <td>65.2</td>\n",
       "      <td>C</td>\n",
       "    </tr>\n",
       "    <tr>\n",
       "      <th>3</th>\n",
       "      <td>Shamil</td>\n",
       "      <td>93</td>\n",
       "      <td>76</td>\n",
       "      <td>87</td>\n",
       "      <td>91</td>\n",
       "      <td>78</td>\n",
       "      <td>425</td>\n",
       "      <td>85.0</td>\n",
       "      <td>A</td>\n",
       "    </tr>\n",
       "    <tr>\n",
       "      <th>4</th>\n",
       "      <td>Rahul</td>\n",
       "      <td>76</td>\n",
       "      <td>87</td>\n",
       "      <td>75</td>\n",
       "      <td>94</td>\n",
       "      <td>89</td>\n",
       "      <td>421</td>\n",
       "      <td>84.2</td>\n",
       "      <td>A</td>\n",
       "    </tr>\n",
       "  </tbody>\n",
       "</table>\n",
       "</div>"
      ],
      "text/plain": [
       "     Name  English  Maths  Science  Social  Hindi  Total  Average Grade\n",
       "0    Amal       90     95       94      98     89    466     93.2    A+\n",
       "1    Neha       91     73       83      80     88    415     83.0     A\n",
       "2   Rahim       66     59       72      68     61    326     65.2     C\n",
       "3  Shamil       93     76       87      91     78    425     85.0     A\n",
       "4   Rahul       76     87       75      94     89    421     84.2     A"
      ]
     },
     "execution_count": 47,
     "metadata": {},
     "output_type": "execute_result"
    }
   ],
   "source": [
    "dataset.head()"
   ]
  },
  {
   "cell_type": "markdown",
   "id": "36cd2ac4",
   "metadata": {},
   "source": [
    "       Bar chart showing total marks per student.  "
   ]
  },
  {
   "cell_type": "code",
   "execution_count": 48,
   "id": "1b8d756d",
   "metadata": {},
   "outputs": [
    {
     "data": {
      "image/png": "[encoded data removed]",
      "text/plain": [
       "<Figure size 640x480 with 1 Axes>"
      ]
     },
     "metadata": {},
     "output_type": "display_data"
    }
   ],
   "source": [
    "figure = plt.figure()\n",
    "ax = figure.add_axes([0, 0, 1, 0.7])\n",
    "\n",
    "students = dataset['Name']\n",
    "total_mark = dataset['Total']\n",
    "\n",
    "color = ['red', 'blue', 'green', 'purple', 'tab:cyan']\n",
    "\n",
    "ax.bar(students, total_mark, color=color)\n",
    "\n",
    "plt.xlabel('STUDENTS')\n",
    "plt.ylabel('TOTAL MARKS')\n",
    "plt.title('STUDENTS SCORE')\n",
    "plt.show()"
   ]
  },
  {
   "cell_type": "markdown",
   "id": "9bc3bc9d",
   "metadata": {},
   "source": [
    "      Pie chart showing subject-wise average distribution.  "
   ]
  },
  {
   "cell_type": "code",
   "execution_count": 49,
   "id": "f04cf7d0",
   "metadata": {},
   "outputs": [
    {
     "data": {
      "image/png": "[encoded data removed]",
      "text/plain": [
       "<Figure size 640x480 with 1 Axes>"
      ]
     },
     "metadata": {},
     "output_type": "display_data"
    }
   ],
   "source": [
    "pie_figure = plt.figure()\n",
    "ax = pie_figure.add_axes([0, 0, 1, 1])\n",
    "\n",
    "subject_avgs = dataset[['English', 'Maths', 'Science', 'Social', 'Hindi']].mean()\n",
    "\n",
    "\n",
    "ax.pie(subject_avgs, labels=subject_avgs.index, autopct='%1.1f%%')\n",
    "plt.show()\n"
   ]
  },
  {
   "cell_type": "markdown",
   "id": "5fc51b09",
   "metadata": {},
   "source": [
    "      Find top 3 students (based on total).  "
   ]
  },
  {
   "cell_type": "code",
   "execution_count": 50,
   "id": "0582d55c",
   "metadata": {},
   "outputs": [
    {
     "name": "stdout",
     "output_type": "stream",
     "text": [
      "     Name  Total\n",
      "0    Amal    466\n",
      "3  Shamil    425\n",
      "4   Rahul    421\n"
     ]
    }
   ],
   "source": [
    "top_3 = dataset.sort_values(by='Total', ascending=False).head(3)\n",
    "\n",
    "print(top_3[['Name', 'Total']])"
   ]
  },
  {
   "cell_type": "markdown",
   "id": "d1385df2",
   "metadata": {},
   "source": [
    "       Save result to Excel.  "
   ]
  },
  {
   "cell_type": "code",
   "execution_count": 51,
   "id": "c01b7230",
   "metadata": {},
   "outputs": [
    {
     "data": {
      "text/html": [
       "<div>\n",
       "<style scoped>\n",
       "    .dataframe tbody tr th:only-of-type {\n",
       "        vertical-align: middle;\n",
       "    }\n",
       "\n",
       "    .dataframe tbody tr th {\n",
       "        vertical-align: top;\n",
       "    }\n",
       "\n",
       "    .dataframe thead th {\n",
       "        text-align: right;\n",
       "    }\n",
       "</style>\n",
       "<table border=\"1\" class=\"dataframe\">\n",
       "  <thead>\n",
       "    <tr style=\"text-align: right;\">\n",
       "      <th></th>\n",
       "      <th>Name</th>\n",
       "      <th>English</th>\n",
       "      <th>Maths</th>\n",
       "      <th>Science</th>\n",
       "      <th>Social</th>\n",
       "      <th>Hindi</th>\n",
       "      <th>Total</th>\n",
       "      <th>Average</th>\n",
       "      <th>Grade</th>\n",
       "    </tr>\n",
       "  </thead>\n",
       "  <tbody>\n",
       "    <tr>\n",
       "      <th>0</th>\n",
       "      <td>Amal</td>\n",
       "      <td>90</td>\n",
       "      <td>95</td>\n",
       "      <td>94</td>\n",
       "      <td>98</td>\n",
       "      <td>89</td>\n",
       "      <td>466</td>\n",
       "      <td>93.2</td>\n",
       "      <td>A+</td>\n",
       "    </tr>\n",
       "    <tr>\n",
       "      <th>1</th>\n",
       "      <td>Neha</td>\n",
       "      <td>91</td>\n",
       "      <td>73</td>\n",
       "      <td>83</td>\n",
       "      <td>80</td>\n",
       "      <td>88</td>\n",
       "      <td>415</td>\n",
       "      <td>83.0</td>\n",
       "      <td>A</td>\n",
       "    </tr>\n",
       "    <tr>\n",
       "      <th>2</th>\n",
       "      <td>Rahim</td>\n",
       "      <td>66</td>\n",
       "      <td>59</td>\n",
       "      <td>72</td>\n",
       "      <td>68</td>\n",
       "      <td>61</td>\n",
       "      <td>326</td>\n",
       "      <td>65.2</td>\n",
       "      <td>C</td>\n",
       "    </tr>\n",
       "    <tr>\n",
       "      <th>3</th>\n",
       "      <td>Shamil</td>\n",
       "      <td>93</td>\n",
       "      <td>76</td>\n",
       "      <td>87</td>\n",
       "      <td>91</td>\n",
       "      <td>78</td>\n",
       "      <td>425</td>\n",
       "      <td>85.0</td>\n",
       "      <td>A</td>\n",
       "    </tr>\n",
       "    <tr>\n",
       "      <th>4</th>\n",
       "      <td>Rahul</td>\n",
       "      <td>76</td>\n",
       "      <td>87</td>\n",
       "      <td>75</td>\n",
       "      <td>94</td>\n",
       "      <td>89</td>\n",
       "      <td>421</td>\n",
       "      <td>84.2</td>\n",
       "      <td>A</td>\n",
       "    </tr>\n",
       "  </tbody>\n",
       "</table>\n",
       "</div>"
      ],
      "text/plain": [
       "     Name  English  Maths  Science  Social  Hindi  Total  Average Grade\n",
       "0    Amal       90     95       94      98     89    466     93.2    A+\n",
       "1    Neha       91     73       83      80     88    415     83.0     A\n",
       "2   Rahim       66     59       72      68     61    326     65.2     C\n",
       "3  Shamil       93     76       87      91     78    425     85.0     A\n",
       "4   Rahul       76     87       75      94     89    421     84.2     A"
      ]
     },
     "execution_count": 51,
     "metadata": {},
     "output_type": "execute_result"
    }
   ],
   "source": [
    "dataset.head()"
   ]
  },
  {
   "cell_type": "code",
   "execution_count": 52,
   "id": "48bbb835",
   "metadata": {},
   "outputs": [],
   "source": [
    "dataset.to_excel('students_score_analysis.xlsx')"
   ]
  },
  {
   "cell_type": "code",
   "execution_count": null,
   "id": "1addddda",
   "metadata": {},
   "outputs": [],
   "source": []
  }
 ],
 "metadata": {
  "kernelspec": {
   "display_name": "Python 3",
   "language": "python",
   "name": "python3"
  },
  "language_info": {
   "codemirror_mode": {
    "name": "ipython",
    "version": 3
   },
   "file_extension": ".py",
   "mimetype": "text/x-python",
   "name": "python",
   "nbconvert_exporter": "python",
   "pygments_lexer": "ipython3",
   "version": "3.12.5"
  }
 },
 "nbformat": 4,
 "nbformat_minor": 5
}
