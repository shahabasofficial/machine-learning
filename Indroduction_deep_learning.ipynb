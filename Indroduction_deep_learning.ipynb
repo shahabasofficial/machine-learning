{
 "cells": [
  {
   "cell_type": "markdown",
   "id": "147f56dd-cd94-4a19-93b6-3775544c454a",
   "metadata": {},
   "source": [
    "# Deep Learning\n",
    "\n",
    "    Deep Learning is a subfield of machine learning that users Artificial Neural Network to learn from the data"
   ]
  },
  {
   "cell_type": "code",
   "execution_count": null,
   "id": "61e3344a-41f0-48df-af27-8c8949460866",
   "metadata": {},
   "outputs": [],
   "source": []
  }
 ],
 "metadata": {
  "kernelspec": {
   "display_name": "Python 3 (ipykernel)",
   "language": "python",
   "name": "python3"
  },
  "language_info": {
   "codemirror_mode": {
    "name": "ipython",
    "version": 3
   },
   "file_extension": ".py",
   "mimetype": "text/x-python",
   "name": "python",
   "nbconvert_exporter": "python",
   "pygments_lexer": "ipython3",
   "version": "3.12.5"
  }
 },
 "nbformat": 4,
 "nbformat_minor": 5
}
