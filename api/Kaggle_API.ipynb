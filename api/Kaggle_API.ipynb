{
 "cells": [
  {
   "cell_type": "markdown",
   "id": "bb9ee3b8",
   "metadata": {},
   "source": [
    "# Importing Datasets Through Kaggle API\n",
    "\n",
    "API - Application Programming Interface"
   ]
  },
  {
   "cell_type": "markdown",
   "id": "e6e18f7b",
   "metadata": {},
   "source": [
    "### Installing Kaggle Library\n",
    "\n",
    "pip install kaggle"
   ]
  },
  {
   "cell_type": "markdown",
   "id": "8349e85e",
   "metadata": {},
   "source": [
    "            Upload Your Kaggle.json file           "
   ]
  },
  {
   "cell_type": "code",
   "execution_count": 1,
   "id": "c54c3c3b",
   "metadata": {},
   "outputs": [
    {
     "name": "stderr",
     "output_type": "stream",
     "text": [
      "The syntax of the command is incorrect.\n"
     ]
    }
   ],
   "source": [
    "# configuring the path of kaggle.jason file in Google Colab, Jupyter Like\n",
    "\n",
    "!mkdir -p ~/.kaggle\n",
    "!cp kaggle.json ~/.kaggle/\n",
    "!chmod 600 ~/.kaggle/kaggle.json\n"
   ]
  },
  {
   "cell_type": "markdown",
   "id": "bf133cc9",
   "metadata": {},
   "source": [
    "Importing the Earthquake Dataset"
   ]
  },
  {
   "cell_type": "markdown",
   "id": "c32bc43f",
   "metadata": {},
   "source": [
    "      -> Go to Kaggle Website and select your Datasets you needed     \n",
    "      -> Go to tab 'data' and copy API link from there     "
   ]
  },
  {
   "cell_type": "code",
   "execution_count": null,
   "id": "c8e2a7c8",
   "metadata": {},
   "outputs": [
    {
     "name": "stdout",
     "output_type": "stream",
     "text": [
      "403 Client Error: Forbidden for url: https://www.kaggle.com/api/v1/competitions/data/download-all/LANL-Earthquake-Prediction\n"
     ]
    }
   ],
   "source": [
    "#  API to fetch the dataset from kaggle - On Google Colab or Jupyter Notebook\n",
    "\n",
    "!kaggle competitions download -c LANL-Earthquake-Prediction\n",
    "\n",
    "# On VS CODE USE TERMINAL"
   ]
  },
  {
   "cell_type": "code",
   "execution_count": null,
   "id": "9987b2e9",
   "metadata": {},
   "outputs": [],
   "source": [
    "# extracting the compressed file"
   ]
  }
 ],
 "metadata": {
  "kernelspec": {
   "display_name": "Python 3",
   "language": "python",
   "name": "python3"
  },
  "language_info": {
   "codemirror_mode": {
    "name": "ipython",
    "version": 3
   },
   "file_extension": ".py",
   "mimetype": "text/x-python",
   "name": "python",
   "nbconvert_exporter": "python",
   "pygments_lexer": "ipython3",
   "version": "3.12.5"
  }
 },
 "nbformat": 4,
 "nbformat_minor": 5
}
