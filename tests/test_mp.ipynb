{
 "cells": [
  {
   "cell_type": "markdown",
   "id": "05a4ec48",
   "metadata": {},
   "source": [
    "Matplot New Project"
   ]
  },
  {
   "cell_type": "code",
   "execution_count": 1,
   "id": "e5a32050",
   "metadata": {},
   "outputs": [],
   "source": [
    "# importing matplotlib, numpy, pandas\n",
    "\n",
    "import matplotlib.pyplot as plt\n",
    "import pandas as pd"
   ]
  },
  {
   "cell_type": "code",
   "execution_count": 3,
   "id": "930b9841",
   "metadata": {},
   "outputs": [],
   "source": [
    "data_frame = pd.read_excel('../datasets/Students.xlsx')"
   ]
  },
  {
   "cell_type": "code",
   "execution_count": 4,
   "id": "2af59c07",
   "metadata": {},
   "outputs": [
    {
     "data": {
      "text/html": [
       "<div>\n",
       "<style scoped>\n",
       "    .dataframe tbody tr th:only-of-type {\n",
       "        vertical-align: middle;\n",
       "    }\n",
       "\n",
       "    .dataframe tbody tr th {\n",
       "        vertical-align: top;\n",
       "    }\n",
       "\n",
       "    .dataframe thead th {\n",
       "        text-align: right;\n",
       "    }\n",
       "</style>\n",
       "<table border=\"1\" class=\"dataframe\">\n",
       "  <thead>\n",
       "    <tr style=\"text-align: right;\">\n",
       "      <th></th>\n",
       "      <th>std</th>\n",
       "      <th>name</th>\n",
       "      <th>class</th>\n",
       "      <th>divition</th>\n",
       "      <th>English</th>\n",
       "      <th>Maths</th>\n",
       "      <th>Hindi</th>\n",
       "      <th>Social</th>\n",
       "      <th>Biology</th>\n",
       "    </tr>\n",
       "  </thead>\n",
       "  <tbody>\n",
       "    <tr>\n",
       "      <th>0</th>\n",
       "      <td>1</td>\n",
       "      <td>Shahabas</td>\n",
       "      <td>9</td>\n",
       "      <td>A</td>\n",
       "      <td>45</td>\n",
       "      <td>50</td>\n",
       "      <td>34</td>\n",
       "      <td>40</td>\n",
       "      <td>30</td>\n",
       "    </tr>\n",
       "    <tr>\n",
       "      <th>1</th>\n",
       "      <td>2</td>\n",
       "      <td>Nasim</td>\n",
       "      <td>9</td>\n",
       "      <td>B</td>\n",
       "      <td>30</td>\n",
       "      <td>39</td>\n",
       "      <td>20</td>\n",
       "      <td>23</td>\n",
       "      <td>43</td>\n",
       "    </tr>\n",
       "    <tr>\n",
       "      <th>2</th>\n",
       "      <td>3</td>\n",
       "      <td>Anas</td>\n",
       "      <td>9</td>\n",
       "      <td>B</td>\n",
       "      <td>40</td>\n",
       "      <td>43</td>\n",
       "      <td>30</td>\n",
       "      <td>43</td>\n",
       "      <td>23</td>\n",
       "    </tr>\n",
       "    <tr>\n",
       "      <th>3</th>\n",
       "      <td>4</td>\n",
       "      <td>Shamil</td>\n",
       "      <td>9</td>\n",
       "      <td>C</td>\n",
       "      <td>46</td>\n",
       "      <td>45</td>\n",
       "      <td>32</td>\n",
       "      <td>43</td>\n",
       "      <td>42</td>\n",
       "    </tr>\n",
       "    <tr>\n",
       "      <th>4</th>\n",
       "      <td>5</td>\n",
       "      <td>Goutham</td>\n",
       "      <td>9</td>\n",
       "      <td>A</td>\n",
       "      <td>37</td>\n",
       "      <td>34</td>\n",
       "      <td>44</td>\n",
       "      <td>32</td>\n",
       "      <td>50</td>\n",
       "    </tr>\n",
       "  </tbody>\n",
       "</table>\n",
       "</div>"
      ],
      "text/plain": [
       "   std      name  class divition  English  Maths  Hindi  Social  Biology\n",
       "0    1  Shahabas      9        A       45     50     34      40       30\n",
       "1    2     Nasim      9        B       30     39     20      23       43\n",
       "2    3      Anas      9        B       40     43     30      43       23\n",
       "3    4    Shamil      9        C       46     45     32      43       42\n",
       "4    5   Goutham      9        A       37     34     44      32       50"
      ]
     },
     "execution_count": 4,
     "metadata": {},
     "output_type": "execute_result"
    }
   ],
   "source": [
    "data_frame.head()"
   ]
  },
  {
   "cell_type": "code",
   "execution_count": 5,
   "id": "33956e09",
   "metadata": {},
   "outputs": [
    {
     "data": {
      "text/plain": [
       "(10, 9)"
      ]
     },
     "execution_count": 5,
     "metadata": {},
     "output_type": "execute_result"
    }
   ],
   "source": [
    "data_frame.shape"
   ]
  },
  {
   "cell_type": "code",
   "execution_count": 6,
   "id": "3d295862",
   "metadata": {},
   "outputs": [],
   "source": [
    "# add total to data_frame\n",
    "\n",
    "data_frame['Total'] = data_frame[['English', 'Maths', 'Hindi', 'Social', 'Biology']].sum(axis=1)"
   ]
  },
  {
   "cell_type": "code",
   "execution_count": 7,
   "id": "baa6c9cb",
   "metadata": {},
   "outputs": [
    {
     "data": {
      "text/html": [
       "<div>\n",
       "<style scoped>\n",
       "    .dataframe tbody tr th:only-of-type {\n",
       "        vertical-align: middle;\n",
       "    }\n",
       "\n",
       "    .dataframe tbody tr th {\n",
       "        vertical-align: top;\n",
       "    }\n",
       "\n",
       "    .dataframe thead th {\n",
       "        text-align: right;\n",
       "    }\n",
       "</style>\n",
       "<table border=\"1\" class=\"dataframe\">\n",
       "  <thead>\n",
       "    <tr style=\"text-align: right;\">\n",
       "      <th></th>\n",
       "      <th>std</th>\n",
       "      <th>name</th>\n",
       "      <th>class</th>\n",
       "      <th>divition</th>\n",
       "      <th>English</th>\n",
       "      <th>Maths</th>\n",
       "      <th>Hindi</th>\n",
       "      <th>Social</th>\n",
       "      <th>Biology</th>\n",
       "      <th>Total</th>\n",
       "    </tr>\n",
       "  </thead>\n",
       "  <tbody>\n",
       "    <tr>\n",
       "      <th>0</th>\n",
       "      <td>1</td>\n",
       "      <td>Shahabas</td>\n",
       "      <td>9</td>\n",
       "      <td>A</td>\n",
       "      <td>45</td>\n",
       "      <td>50</td>\n",
       "      <td>34</td>\n",
       "      <td>40</td>\n",
       "      <td>30</td>\n",
       "      <td>199</td>\n",
       "    </tr>\n",
       "    <tr>\n",
       "      <th>1</th>\n",
       "      <td>2</td>\n",
       "      <td>Nasim</td>\n",
       "      <td>9</td>\n",
       "      <td>B</td>\n",
       "      <td>30</td>\n",
       "      <td>39</td>\n",
       "      <td>20</td>\n",
       "      <td>23</td>\n",
       "      <td>43</td>\n",
       "      <td>155</td>\n",
       "    </tr>\n",
       "    <tr>\n",
       "      <th>2</th>\n",
       "      <td>3</td>\n",
       "      <td>Anas</td>\n",
       "      <td>9</td>\n",
       "      <td>B</td>\n",
       "      <td>40</td>\n",
       "      <td>43</td>\n",
       "      <td>30</td>\n",
       "      <td>43</td>\n",
       "      <td>23</td>\n",
       "      <td>179</td>\n",
       "    </tr>\n",
       "    <tr>\n",
       "      <th>3</th>\n",
       "      <td>4</td>\n",
       "      <td>Shamil</td>\n",
       "      <td>9</td>\n",
       "      <td>C</td>\n",
       "      <td>46</td>\n",
       "      <td>45</td>\n",
       "      <td>32</td>\n",
       "      <td>43</td>\n",
       "      <td>42</td>\n",
       "      <td>208</td>\n",
       "    </tr>\n",
       "    <tr>\n",
       "      <th>4</th>\n",
       "      <td>5</td>\n",
       "      <td>Goutham</td>\n",
       "      <td>9</td>\n",
       "      <td>A</td>\n",
       "      <td>37</td>\n",
       "      <td>34</td>\n",
       "      <td>44</td>\n",
       "      <td>32</td>\n",
       "      <td>50</td>\n",
       "      <td>197</td>\n",
       "    </tr>\n",
       "  </tbody>\n",
       "</table>\n",
       "</div>"
      ],
      "text/plain": [
       "   std      name  class divition  English  Maths  Hindi  Social  Biology  \\\n",
       "0    1  Shahabas      9        A       45     50     34      40       30   \n",
       "1    2     Nasim      9        B       30     39     20      23       43   \n",
       "2    3      Anas      9        B       40     43     30      43       23   \n",
       "3    4    Shamil      9        C       46     45     32      43       42   \n",
       "4    5   Goutham      9        A       37     34     44      32       50   \n",
       "\n",
       "   Total  \n",
       "0    199  \n",
       "1    155  \n",
       "2    179  \n",
       "3    208  \n",
       "4    197  "
      ]
     },
     "execution_count": 7,
     "metadata": {},
     "output_type": "execute_result"
    }
   ],
   "source": [
    "data_frame.head()"
   ]
  },
  {
   "cell_type": "code",
   "execution_count": 8,
   "id": "616f5c79",
   "metadata": {},
   "outputs": [
    {
     "name": "stdout",
     "output_type": "stream",
     "text": [
      "   std      name  class divition  English  Maths  Hindi  Social  Biology  \\\n",
      "0    1  Shahabas      9        A       45     50     34      40       30   \n",
      "1    2     Nasim      9        B       30     39     20      23       43   \n",
      "2    3      Anas      9        B       40     43     30      43       23   \n",
      "3    4    Shamil      9        C       46     45     32      43       42   \n",
      "4    5   Goutham      9        A       37     34     44      32       50   \n",
      "5    6     Jasim     10        B       40     23     35      23       23   \n",
      "6    7    Hashim      8        A       30     24     32      42       11   \n",
      "7    8   Sulthan      8        A       36     12     24      12       23   \n",
      "8    9    Shahas     10        C       35     43     43      32       32   \n",
      "9   10    Farhan     10        B       45     32     23      44       21   \n",
      "\n",
      "   Total  \n",
      "0    199  \n",
      "1    155  \n",
      "2    179  \n",
      "3    208  \n",
      "4    197  \n",
      "5    144  \n",
      "6    139  \n",
      "7    107  \n",
      "8    185  \n",
      "9    165  \n"
     ]
    }
   ],
   "source": [
    "print(data_frame)"
   ]
  },
  {
   "cell_type": "code",
   "execution_count": 23,
   "id": "81ee5b7a",
   "metadata": {},
   "outputs": [
    {
     "data": {
      "image/png": "[encoded data removed]",
      "text/plain": [
       "<Figure size 640x480 with 1 Axes>"
      ]
     },
     "metadata": {},
     "output_type": "display_data"
    }
   ],
   "source": [
    "figure = plt.figure()\n",
    "ax = figure.add_axes([0, 0, 1.4, 1])\n",
    "\n",
    "students_name = data_frame['name']\n",
    "total_marks = data_frame['Total']\n",
    "bar_colors = ['red', 'blue', 'green', 'tab:cyan', 'orange', 'purple']\n",
    "\n",
    "ax.bar(students_name, total_marks, color=bar_colors)\n",
    "\n",
    "plt.xlabel('Students Names')\n",
    "plt.ylabel('Total Marks')\n",
    "plt.title('Students Total Mark Bar Chart')\n",
    "plt.show()"
   ]
  },
  {
   "cell_type": "code",
   "execution_count": null,
   "id": "eb902bf5",
   "metadata": {},
   "outputs": [],
   "source": []
  },
  {
   "cell_type": "code",
   "execution_count": null,
   "id": "975a7c81",
   "metadata": {},
   "outputs": [],
   "source": []
  }
 ],
 "metadata": {
  "kernelspec": {
   "display_name": "Python 3",
   "language": "python",
   "name": "python3"
  },
  "language_info": {
   "codemirror_mode": {
    "name": "ipython",
    "version": 3
   },
   "file_extension": ".py",
   "mimetype": "text/x-python",
   "name": "python",
   "nbconvert_exporter": "python",
   "pygments_lexer": "ipython3",
   "version": "3.12.5"
  }
 },
 "nbformat": 4,
 "nbformat_minor": 5
}
