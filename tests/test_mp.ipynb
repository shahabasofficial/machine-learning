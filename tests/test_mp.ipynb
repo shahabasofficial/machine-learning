{
 "cells": [
  {
   "cell_type": "markdown",
   "id": "05a4ec48",
   "metadata": {},
   "source": [
    "Matplot New Project"
   ]
  },
  {
   "cell_type": "code",
   "execution_count": null,
   "id": "e5a32050",
   "metadata": {},
   "outputs": [],
   "source": [
    "# importing matplotlib, numpy, pandas\n",
    "\n",
    "import matplotlib.pyplot as plt"
   ]
  }
 ],
 "metadata": {
  "kernelspec": {
   "display_name": "Python 3",
   "language": "python",
   "name": "python3"
  },
  "language_info": {
   "name": "python",
   "version": "3.12.5"
  }
 },
 "nbformat": 4,
 "nbformat_minor": 5
}
